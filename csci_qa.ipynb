{
 "cells": [
  {
   "cell_type": "markdown",
   "id": "74148cee",
   "metadata": {},
   "source": [
    "# CS Courses QA with Sources"
   ]
  },
  {
   "cell_type": "code",
   "execution_count": 1,
   "id": "b3b4cff6",
   "metadata": {},
   "outputs": [],
   "source": [
    "import os\n",
    "from dotenv import load_dotenv\n",
    "load_dotenv()\n",
    "\n",
    "API_KEY = os.getenv('OPENAI_API_KEY')\n",
    "os.environ[\"OPENAI_API_KEY\"] = API_KEY"
   ]
  },
  {
   "cell_type": "markdown",
   "id": "ca2f0efc",
   "metadata": {},
   "source": [
    "## Prepare Data"
   ]
  },
  {
   "cell_type": "code",
   "execution_count": 2,
   "id": "78f28130",
   "metadata": {},
   "outputs": [],
   "source": [
    "from langchain.embeddings.openai import OpenAIEmbeddings\n",
    "from langchain.embeddings.cohere import CohereEmbeddings\n",
    "from langchain.text_splitter import RecursiveCharacterTextSplitter, CharacterTextSplitter\n",
    "from langchain.vectorstores.elastic_vector_search import ElasticVectorSearch\n",
    "from langchain.vectorstores import Chroma\n",
    "from langchain.docstore.document import Document\n",
    "from langchain.prompts import PromptTemplate\n",
    "from langchain.vectorstores.faiss import FAISS\n",
    "import pickle"
   ]
  },
  {
   "cell_type": "code",
   "execution_count": 3,
   "id": "4da195a3",
   "metadata": {},
   "outputs": [],
   "source": [
    "from langchain.document_loaders import UnstructuredFileLoader\n",
    "\n",
    "# load raw text data from pdf\n",
    "loader = UnstructuredFileLoader(\"./data/csci.pdf\", mode=\"elements\")\n",
    "raw_documents = loader.load()"
   ]
  },
  {
   "cell_type": "code",
   "execution_count": 6,
   "id": "e32e8908",
   "metadata": {},
   "outputs": [
    {
     "name": "stdout",
     "output_type": "stream",
     "text": [
      "Num parsed documents:  261\n"
     ]
    }
   ],
   "source": [
    "print(\"Num parsed documents: \", len(raw_documents))\n",
    "\n",
    "# for i in range(len(raw_documents)):\n",
    "    # print(raw_documents[i])\n",
    "    # print(raw_documents[i].metadata['category'], raw_documents[i].page_content)\n",
    "    \n",
    "# Merge NarrativeText up to some max length\n",
    "# Include previous title(s) before Narrative Text\n",
    "# Prob just the single prev title, but maybe multiple? Maybe use overlap?\n",
    "# Remove UncategorizedText?"
   ]
  },
  {
   "cell_type": "code",
   "execution_count": 8,
   "id": "e3ea9f64",
   "metadata": {},
   "outputs": [
    {
     "data": {
      "text/plain": [
       "Document(page_content='To be eligible for admission to the major, a student must have completed at least two Computer Science courses, including Computer Science 136, as well as fulfilled the Discrete Mathematics Proficiency Requirement by the end of the sophomore year. A Mathematics course at the 200-level or higher (except for MATH 200) must be completed by the end of the junior year. Students are urged to have completed two of the four core courses (Computer Science 237, 256, 334, and 361) by the end of the sophomore year and must normally have completed at least three out of the four core courses by the end of the junior year.', metadata={'source': './csci.pdf', 'filename': './csci.pdf', 'page_number': 2, 'category': 'NarrativeText'})"
      ]
     },
     "execution_count": 8,
     "metadata": {},
     "output_type": "execute_result"
    }
   ],
   "source": [
    "# Split text\n",
    "text_splitter = CharacterTextSplitter(chunk_size = 2000, chunk_overlap = 200)\n",
    "documents = text_splitter.split_documents(raw_documents)\n",
    "documents[22]"
   ]
  },
  {
   "cell_type": "code",
   "execution_count": 10,
   "id": "07bdd918",
   "metadata": {},
   "outputs": [],
   "source": [
    "# Load Data to vectorstore\n",
    "embeddings = OpenAIEmbeddings()\n",
    "vectorstore = FAISS.from_documents(documents, embeddings)\n",
    "\n",
    "# Save vectorstore\n",
    "with open(\"./vectorstore.pkl\", \"wb\") as f:\n",
    "    pickle.dump(vectorstore, f)"
   ]
  },
  {
   "cell_type": "code",
   "execution_count": 11,
   "id": "2eccb507",
   "metadata": {},
   "outputs": [],
   "source": [
    "from langchain.chains import ConversationalRetrievalChain\n",
    "from langchain.llms import OpenAI\n",
    "\n",
    "qa = ConversationalRetrievalChain.from_llm(OpenAI(temperature=0), vectorstore.as_retriever(), return_source_documents=True)"
   ]
  },
  {
   "cell_type": "code",
   "execution_count": 14,
   "id": "dff0826f",
   "metadata": {},
   "outputs": [],
   "source": [
    "def ask_no_history(qa, query):\n",
    "    return qa({\"question\": query, \"chat_history\": []})"
   ]
  },
  {
   "cell_type": "code",
   "execution_count": 15,
   "id": "1ab2930e",
   "metadata": {},
   "outputs": [
    {
     "data": {
      "text/plain": [
       "{'question': \"What is the full name of the course 'Computer Science 256?'\",\n",
       " 'chat_history': [],\n",
       " 'answer': ' Computer Science 256 is an upper-level course titled Algorithms and Data Structures.',\n",
       " 'source_documents': [Document(page_content='Computer Science 134 Introduction to Computer Science', metadata={'source': './csci.pdf', 'filename': './csci.pdf', 'page_number': 1, 'category': 'NarrativeText'}),\n",
       "  Document(page_content='CSCI 136 and CSCI 256 or permission of instructor', metadata={'source': './csci.pdf', 'filename': './csci.pdf', 'page_number': 14, 'category': 'NarrativeText'}),\n",
       "  Document(page_content='Prerequisites: CSCI 256 and CSCI 237', metadata={'source': './csci.pdf', 'filename': './csci.pdf', 'page_number': 12, 'category': 'NarrativeText'}),\n",
       "  Document(page_content='There are several sequences of courses appropriate for those primarily interested in developing skills in programming for use in other areas. For general programming, Computer Science 134 followed by 136 and 256 will provide students with a strong background in algorithm and data structure design together with an understanding of issues of correctness and efficiency. Students of the Bioinformatics program are encouraged to take Computer Science 134 at a minimum, and should also consider Computer Science 136 and 256. The sequence of courses Computer Science 109 134 would provide sufficient competence in computer graphics for many students interested in applying such knowledge either in the arts or', metadata={'source': './csci.pdf', 'filename': './csci.pdf', 'page_number': 4, 'category': 'NarrativeText'})]}"
      ]
     },
     "execution_count": 15,
     "metadata": {},
     "output_type": "execute_result"
    }
   ],
   "source": [
    "query = \"What is the full name of the course 'Computer Science 256?'\"\n",
    "ask_no_history(qa, query)"
   ]
  },
  {
   "cell_type": "code",
   "execution_count": 16,
   "id": "740ba076",
   "metadata": {},
   "outputs": [
    {
     "data": {
      "text/plain": [
       "{'question': 'What is the Discrete Mathematics Proficiency Requirement?',\n",
       " 'chat_history': [],\n",
       " 'answer': ' The Discrete Mathematics Proficiency Requirement is to demonstrate proficiency in discrete mathematics by either passing the departmental Discrete Mathematics Proficiency Exam or by earning a grade of C- or better in MATH 200.',\n",
       " 'source_documents': [Document(page_content='Students must demonstrate proficiency in discrete mathematics by either passing the departmental Discrete Mathematics Proficiency Exam or by earning a grade of C- or better in MATH 200. This requirement must be met by the end of the sophomore year.', metadata={'source': './csci.pdf', 'filename': './csci.pdf', 'page_number': 2, 'category': 'NarrativeText'}),\n",
       "  Document(page_content='Prerequisites: CSCI 136 and fulfillment of the Discrete Mathematics Proficiency requirement', metadata={'source': './csci.pdf', 'filename': './csci.pdf', 'page_number': 16, 'category': 'NarrativeText'}),\n",
       "  Document(page_content='Quantative/Formal Reasoning Notes: This course heavily relies on discrete mathematics, algorithms, and elementary statistics. There will be regular assignments requiring rigorous quantitative or formal reasoning.', metadata={'source': './csci.pdf', 'filename': './csci.pdf', 'page_number': 16, 'category': 'NarrativeText'}),\n",
       "  Document(page_content='To be eligible for admission to the major, a student must have completed at least two Computer Science courses, including Computer Science 136, as well as fulfilled the Discrete Mathematics Proficiency Requirement by the end of the sophomore year. A Mathematics course at the 200-level or higher (except for MATH 200) must be completed by the end of the junior year. Students are urged to have completed two of the four core courses (Computer Science 237, 256, 334, and 361) by the end of the sophomore year and must normally have completed at least three out of the four core courses by the end of the junior year.', metadata={'source': './csci.pdf', 'filename': './csci.pdf', 'page_number': 2, 'category': 'NarrativeText'})]}"
      ]
     },
     "execution_count": 16,
     "metadata": {},
     "output_type": "execute_result"
    }
   ],
   "source": [
    "query = \"What is the Discrete Mathematics Proficiency Requirement?\"\n",
    "ask_no_history(qa, query)"
   ]
  },
  {
   "cell_type": "code",
   "execution_count": 34,
   "id": "5286f58f",
   "metadata": {},
   "outputs": [
    {
     "data": {
      "text/plain": [
       "' You need to take a minimum of 8 courses in Computer Science, including the four core courses (Computer Science 237, 256, 334, and 361) and two or more electives (bringing the total number of Computer Science courses to at least 8).'"
      ]
     },
     "execution_count": 34,
     "metadata": {},
     "output_type": "execute_result"
    }
   ],
   "source": [
    "query = \"How many CS courses do I need to take to graduate?\"\n",
    "ask_no_history(qa, query)"
   ]
  },
  {
   "cell_type": "code",
   "execution_count": 35,
   "id": "6ea209d9",
   "metadata": {},
   "outputs": [
    {
     "data": {
      "text/plain": [
       "' No, you cannot take Computer Graphics since it requires CSCI 256 and CSCI 237 as prerequisites.'"
      ]
     },
     "execution_count": 35,
     "metadata": {},
     "output_type": "execute_result"
    }
   ],
   "source": [
    "query = \"I haven't taken CS237. Can I take Computer Graphics?\"\n",
    "ask_no_history(qa, query)"
   ]
  }
 ],
 "metadata": {
  "kernelspec": {
   "display_name": "Python 3 (ipykernel)",
   "language": "python",
   "name": "python3"
  },
  "language_info": {
   "codemirror_mode": {
    "name": "ipython",
    "version": 3
   },
   "file_extension": ".py",
   "mimetype": "text/x-python",
   "name": "python",
   "nbconvert_exporter": "python",
   "pygments_lexer": "ipython3",
   "version": "3.8.16"
  },
  "vscode": {
   "interpreter": {
    "hash": "b1677b440931f40d89ef8be7bf03acb108ce003de0ac9b18e8d43753ea2e7103"
   }
  }
 },
 "nbformat": 4,
 "nbformat_minor": 5
}
