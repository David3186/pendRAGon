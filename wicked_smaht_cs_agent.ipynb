{
 "cells": [
  {
   "cell_type": "code",
   "execution_count": 1,
   "id": "771401cb",
   "metadata": {},
   "outputs": [],
   "source": [
    "import os\n",
    "from dotenv import load_dotenv\n",
    "load_dotenv()\n",
    "\n",
    "API_KEY = os.getenv('OPENAI_API_KEY')\n",
    "os.environ[\"OPENAI_API_KEY\"] = API_KEY"
   ]
  },
  {
   "cell_type": "code",
   "execution_count": 3,
   "id": "6575b85e",
   "metadata": {},
   "outputs": [],
   "source": [
    "from langchain.embeddings.openai import OpenAIEmbeddings\n",
    "from langchain.embeddings.cohere import CohereEmbeddings\n",
    "from langchain.text_splitter import RecursiveCharacterTextSplitter, CharacterTextSplitter\n",
    "from langchain.vectorstores.elastic_vector_search import ElasticVectorSearch\n",
    "from langchain.vectorstores import Chroma\n",
    "from langchain.docstore.document import Document\n",
    "from langchain.prompts import PromptTemplate\n",
    "from langchain.vectorstores.faiss import FAISS\n",
    "from langchain.chains import ConversationalRetrievalChain\n",
    "from langchain.llms import OpenAI\n",
    "import pickle"
   ]
  },
  {
   "cell_type": "code",
   "execution_count": 15,
   "id": "6a089392",
   "metadata": {},
   "outputs": [],
   "source": [
    "def ask_no_history(qa, query):\n",
    "    return qa({\"question\": query, \"chat_history\": []})\n",
    "\n",
    "def ask_with_history_and_append(qa, query, history):\n",
    "    res = qa({\"question\": query, \"chat_history\": history})\n",
    "    history.append((query, res[\"answer\"]))\n",
    "    return res\n",
    "\n",
    "def pretty_print_res(query, res, include_sources=True):\n",
    "    print(f\"[USER]: {query}\")\n",
    "    print(f\"[PenDragon]: {res['answer']}\\n\")\n",
    "    print(\"[PenDragon Sources Consulted]:\")\n",
    "    \n",
    "    for idx, source in enumerate(res[\"source_documents\"]):\n",
    "        print(f\"--- [{idx+1}] {source.page_content}\")"
   ]
  },
  {
   "cell_type": "code",
   "execution_count": 4,
   "id": "7d9737fe",
   "metadata": {},
   "outputs": [],
   "source": [
    "embeddings = OpenAIEmbeddings()"
   ]
  },
  {
   "cell_type": "code",
   "execution_count": 6,
   "id": "6512e4e6",
   "metadata": {},
   "outputs": [],
   "source": [
    "db = None\n",
    "with open(\"./db_everything_ultra_processed.pkl\", \"rb\") as f:\n",
    "    db = pickle.load(f)"
   ]
  },
  {
   "cell_type": "code",
   "execution_count": 18,
   "id": "1c866b9b",
   "metadata": {},
   "outputs": [],
   "source": [
    "qa = ConversationalRetrievalChain.from_llm(\n",
    "    OpenAI(temperature=0.5),\n",
    "    db.as_retriever(search_kwargs={\"k\": 10}),\n",
    "    return_source_documents=True\n",
    ")"
   ]
  },
  {
   "cell_type": "code",
   "execution_count": 25,
   "id": "f95947ac",
   "metadata": {},
   "outputs": [],
   "source": [
    "chat_history = []"
   ]
  },
  {
   "cell_type": "code",
   "execution_count": 22,
   "id": "7c484ee1",
   "metadata": {},
   "outputs": [
    {
     "name": "stdout",
     "output_type": "stream",
     "text": [
      "[USER]: Which CS professors are on leave?\n",
      "[PenDragon]:  Samuel McCauley, Aaron M. Williams, and Shikha Singh are on leave.\n",
      "\n",
      "[PenDragon Sources Consulted]:\n",
      "--- [1] Samuel McCauley, Assistant Professor of Computer Science; on leave 2022-2023 \n",
      "\n",
      "--- [2] Aaron M. Williams, Associate Professor of Computer Science; on leave Spring 2023 \n",
      "\n",
      "--- [3] Shikha Singh, Assistant Professor of Computer Science; on leave 2022-2023 \n",
      "\n",
      "--- [4] Iris Howley, Assistant Professor of Computer Science \n",
      "\n",
      "--- [5] Mark Hopkins, Assistant Professor of Computer Science \n",
      "\n",
      "--- [6] Bill K. Jannen, Assistant Professor of Computer Science \n",
      "\n",
      "--- [7] Kelly A. Shaw, Professor of Computer Science \n",
      "\n",
      "--- [8] Stephen N. Freund, Chair and A. Barton Hepburn Professor of Computer Science \n",
      "\n",
      "--- [9] James M. Bern, Assistant Professor of Computer Science \n",
      "\n",
      "--- [10] Katie A. Keith, Assistant Professor of Computer Science \n",
      "\n"
     ]
    }
   ],
   "source": [
    "query = \"Which CS professors are on leave?\"\n",
    "res = ask_with_history_and_append(qa, query, chat_history)\n",
    "pretty_print_res(query, res)"
   ]
  },
  {
   "cell_type": "code",
   "execution_count": 26,
   "id": "9e8c788a",
   "metadata": {},
   "outputs": [
    {
     "data": {
      "text/plain": [
       "[]"
      ]
     },
     "execution_count": 26,
     "metadata": {},
     "output_type": "execute_result"
    }
   ],
   "source": [
    "chat_history"
   ]
  },
  {
   "cell_type": "code",
   "execution_count": null,
   "id": "8489d0b5",
   "metadata": {},
   "outputs": [],
   "source": []
  }
 ],
 "metadata": {
  "kernelspec": {
   "display_name": "Python [conda env:nlp-final-proj] *",
   "language": "python",
   "name": "conda-env-nlp-final-proj-py"
  },
  "language_info": {
   "codemirror_mode": {
    "name": "ipython",
    "version": 3
   },
   "file_extension": ".py",
   "mimetype": "text/x-python",
   "name": "python",
   "nbconvert_exporter": "python",
   "pygments_lexer": "ipython3",
   "version": "3.8.16"
  }
 },
 "nbformat": 4,
 "nbformat_minor": 5
}
